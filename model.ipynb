{
 "cells": [
  {
   "cell_type": "code",
   "execution_count": 1,
   "metadata": {
    "scrolled": false,
    "slideshow": {
     "slide_type": "slide"
    }
   },
   "outputs": [],
   "source": [
    "# import the modules required\n",
    "\n",
    "import bz2\n",
    "import fasttext\n",
    "import csv\n",
    "import pandas as pd\n",
    "import numpy as np\n",
    "from sklearn.metrics import roc_auc_score "
   ]
  },
  {
   "cell_type": "code",
   "execution_count": 2,
   "metadata": {
    "slideshow": {
     "slide_type": "slide"
    }
   },
   "outputs": [],
   "source": [
    "# reading a bz2. fast-text txt file\n",
    "\n",
    "data = bz2.BZ2File(\"train.ft.txt.bz2\")\n",
    "data = [a.decode('utf-8') for a in data]"
   ]
  },
  {
   "cell_type": "code",
   "execution_count": 3,
   "metadata": {
    "slideshow": {
     "slide_type": "notes"
    }
   },
   "outputs": [
    {
     "name": "stdout",
     "output_type": "stream",
     "text": [
      "3600000\n"
     ]
    }
   ],
   "source": [
    "# 3600000 rows of labelled data \n",
    "# __label__1 : negative sentiment\n",
    "# __label__2 : positive sentiment\n",
    "\n",
    "print(len(data))"
   ]
  },
  {
   "cell_type": "code",
   "execution_count": 4,
   "metadata": {
    "slideshow": {
     "slide_type": "subslide"
    }
   },
   "outputs": [
    {
     "data": {
      "text/plain": [
       "['__label__2 Stuning even for the non-gamer: This sound track was beautiful! It paints the senery in your mind so well I would recomend it even to people who hate vid. game music! I have played the game Chrono Cross but out of all of the games I have ever played it has the best music! It backs away from crude keyboarding and takes a fresher step with grate guitars and soulful orchestras. It would impress anyone who cares to listen! ^_^\\n',\n",
       " \"__label__2 The best soundtrack ever to anything.: I'm reading a lot of reviews saying that this is the best 'game soundtrack' and I figured that I'd write a review to disagree a bit. This in my opinino is Yasunori Mitsuda's ultimate masterpiece. The music is timeless and I'm been listening to it for years now and its beauty simply refuses to fade.The price tag on this is pretty staggering I must say, but if you are going to buy any cd for this much money, this is the only one that I feel would be worth every penny.\\n\",\n",
       " '__label__2 Amazing!: This soundtrack is my favorite music of all time, hands down. The intense sadness of \"Prisoners of Fate\" (which means all the more if you\\'ve played the game) and the hope in \"A Distant Promise\" and \"Girl who Stole the Star\" have been an important inspiration to me personally throughout my teen years. The higher energy tracks like \"Chrono Cross ~ Time\\'s Scar~\", \"Time of the Dreamwatch\", and \"Chronomantique\" (indefinably remeniscent of Chrono Trigger) are all absolutely superb as well.This soundtrack is amazing music, probably the best of this composer\\'s work (I haven\\'t heard the Xenogears soundtrack, so I can\\'t say for sure), and even if you\\'ve never played the game, it would be worth twice the price to buy it.I wish I could give it 6 stars.\\n',\n",
       " \"__label__2 Excellent Soundtrack: I truly like this soundtrack and I enjoy video game music. I have played this game and most of the music on here I enjoy and it's truly relaxing and peaceful.On disk one. my favorites are Scars Of Time, Between Life and Death, Forest Of Illusion, Fortress of Ancient Dragons, Lost Fragment, and Drowned Valley.Disk Two: The Draggons, Galdorb - Home, Chronomantique, Prisoners of Fate, Gale, and my girlfriend likes ZelbessDisk Three: The best of the three. Garden Of God, Chronopolis, Fates, Jellyfish sea, Burning Orphange, Dragon's Prayer, Tower Of Stars, Dragon God, and Radical Dreamers - Unstealable Jewel.Overall, this is a excellent soundtrack and should be brought by those that like video game music.Xander Cross\\n\",\n",
       " \"__label__2 Remember, Pull Your Jaw Off The Floor After Hearing it: If you've played the game, you know how divine the music is! Every single song tells a story of the game, it's that good! The greatest songs are without a doubt, Chrono Cross: Time's Scar, Magical Dreamers: The Wind, The Stars, and the Sea and Radical Dreamers: Unstolen Jewel. (Translation varies) This music is perfect if you ask me, the best it can be. Yasunori Mitsuda just poured his heart on and wrote it down on paper.\\n\"]"
      ]
     },
     "execution_count": 4,
     "metadata": {},
     "output_type": "execute_result"
    }
   ],
   "source": [
    "# sentences/reviews in first five rows-- \n",
    "data[0:5]"
   ]
  },
  {
   "cell_type": "code",
   "execution_count": 5,
   "metadata": {
    "slideshow": {
     "slide_type": "skip"
    }
   },
   "outputs": [
    {
     "data": {
      "text/plain": [
       "['__label__2 Exceptionally well-explained copywriting training: Mr Lewis has again written a classic - this book, especially starting with Ch 4 \"How to Be a First-Rank Wordsmith\", reveals the craft of writing compelling copy with remarkable clarity.I underestimated this book at first; wish I\\'d read it a couple of years ago ... along w/Schwartz\\' \"Breakthrough Advertising\" and Lewis\\' other copywriting books, this is an absolute must-get. It really does dig deep into comparing the difference between credible, compelling copy and lukewarm copy that doesn\\'t sell.A must-get for everyone who write ads, including site salesletters - it\\'s a scorcher!\\n',\n",
       " '__label__2 fascinating: Fennesz is my new favorite music discovery. Whenever I go see a rock show and there is a guy up there with a guitar and a huge cabinet amp full of processors and gadgets, I get excited. Fennesz is that guy but with a laptop. Ambient music gets a good seeing to with an element of live instrumentation. Fennesz, along with Squarepusher (the nuttiest bass player ever), gives me hope for the future of my guitar.\\n',\n",
       " '__label__1 No sound in last 10 minutes of Human Monster: The other reviewer is right - the sound on The Human Monster ends at 1 hour, 3 minutes into the movie. I played the DVD on two different machines to make sure the problem was the DVD and not the player. I returned the DVD, and finished watching the movie (for free) on YouTube.\\n',\n",
       " '__label__1 a.m.c. monsterfest should be ashamed of themselfs for this junk: i was given this as a present,and though that with the a.m.c. movie channel name the transfers would be at least ok,no such luck. these are the worst transfers i have ever seen. stay away from these, you can find all these movies in other collections, and they look much better. sahme on you a.m.c.\\n',\n",
       " '__label__2 Scary!: While hiking in the woods, Bryce and Cindy found the Creepy Creature. They thought it was harmless but it ate Bryce. Cindy has to find Adam, Sally and Watch. But they saw Bryce. At first, he was normal and it said it does not remember any attack. But now, the fake Bryce is an alien. When The Creepy Creature appeared again This time it ate WATCH!. Who will be next?.\\n']"
      ]
     },
     "execution_count": 5,
     "metadata": {},
     "output_type": "execute_result"
    }
   ],
   "source": [
    "data[1800005:1800010]"
   ]
  },
  {
   "cell_type": "code",
   "execution_count": 6,
   "metadata": {
    "slideshow": {
     "slide_type": "skip"
    }
   },
   "outputs": [
    {
     "data": {
      "text/plain": [
       "\"__label__2 Makes My Blood Run Red-White-And-Blue: I agree that every American should read this book -- and everybody else for that matter. I don't agree that it's scholarly. Rather, it's a joy to read -- easy to understand even for a person with two master's degrees! Between McElroy's chapter on How American Culture was Formed and Ken Burns' Lewis & Clark, I don't know which makes my blood run red-white-and-bluer. And as a child of the anti-establishment `60s, it's done a lot toward helping me understand why we Americans do what we do. It's the best history book I've ever read, the best history course I've ever taken or taught. I'm buying it for my home library for my grandchildren to use as a resource. We're also using it as a resource for a book on urban planning.\\n\""
      ]
     },
     "execution_count": 6,
     "metadata": {},
     "output_type": "execute_result"
    }
   ],
   "source": [
    "data[3599999]"
   ]
  },
  {
   "cell_type": "code",
   "execution_count": 7,
   "metadata": {
    "slideshow": {
     "slide_type": "skip"
    }
   },
   "outputs": [
    {
     "name": "stdout",
     "output_type": "stream",
     "text": [
      "3600000\n",
      "0\n"
     ]
    }
   ],
   "source": [
    "# check for training dataset imbalance\n",
    "\n",
    "co = 0\n",
    "ci = 0\n",
    "for x in data:\n",
    "    x = data[0]\n",
    "    if x[9] == '2':        \n",
    "        co += 1\n",
    "    else: \n",
    "        ci += 1\n",
    "        \n",
    "print(co)\n",
    "print(ci)"
   ]
  },
  {
   "cell_type": "code",
   "execution_count": 8,
   "metadata": {
    "slideshow": {
     "slide_type": "skip"
    }
   },
   "outputs": [],
   "source": [
    "# once model is created comment out the code till loading model"
   ]
  },
  {
   "cell_type": "code",
   "execution_count": 9,
   "metadata": {
    "slideshow": {
     "slide_type": "slide"
    }
   },
   "outputs": [],
   "source": [
    "# #data prep\n",
    "\n",
    "data = pd.DataFrame(data)\n",
    "data.to_csv(\"train.txt\", index=False, sep=' ', header=False, quoting=csv.QUOTE_NONE, quotechar=\"\", escapechar=\" \")"
   ]
  },
  {
   "cell_type": "code",
   "execution_count": 10,
   "metadata": {
    "slideshow": {
     "slide_type": "slide"
    }
   },
   "outputs": [],
   "source": [
    "#create model\n",
    "\n",
    "# model = fasttext.train_supervised('train.txt',label_prefix='__label__', thread=4, epoch=10)\n",
    "# print(model.labels, 'target labels for predicting')"
   ]
  },
  {
   "cell_type": "code",
   "execution_count": 11,
   "metadata": {
    "slideshow": {
     "slide_type": "subslide"
    }
   },
   "outputs": [],
   "source": [
    "# saving trained model\n",
    "\n",
    "# model.save_model(\"model_filename.vec\")"
   ]
  },
  {
   "cell_type": "code",
   "execution_count": 12,
   "metadata": {
    "slideshow": {
     "slide_type": "subslide"
    }
   },
   "outputs": [
    {
     "name": "stderr",
     "output_type": "stream",
     "text": [
      "Warning : `load_model` does not return WordVectorModel or SupervisedModel any more, but a `FastText` object which is very similar.\n"
     ]
    }
   ],
   "source": [
    "#loading saved model\n",
    "model = fasttext.load_model(\"model_filename.vec\")"
   ]
  },
  {
   "cell_type": "code",
   "execution_count": 13,
   "metadata": {
    "slideshow": {
     "slide_type": "slide"
    }
   },
   "outputs": [
    {
     "name": "stdout",
     "output_type": "stream",
     "text": [
      "400000  records in test file\n"
     ]
    }
   ],
   "source": [
    "# load test file\n",
    "test_file = bz2.BZ2File(\"test.ft.txt.bz2\")\n",
    "test_file = test_file.readlines()\n",
    "test_file = [a.decode('utf-8') for a in test_file]\n",
    "print(len(test_file), ' records in test file')"
   ]
  },
  {
   "cell_type": "code",
   "execution_count": 23,
   "metadata": {
    "slideshow": {
     "slide_type": "slide"
    }
   },
   "outputs": [],
   "source": [
    "\n",
    "# _________________________________TODO_________________________________DONE\n",
    "# instead of running for loop 3 times over same data use for loop once \n",
    "\n",
    "# hide labels before trying to predict\n",
    "# labels are replaced with ''\n",
    "\n",
    "new_label = [w.replace('__label__2','') for w in test_file]\n",
    "new_label = [w.replace('__label__1','') for w in new_label]\n",
    "new_label = [w.replace('\\n','') for w in new_label]\n",
    "\n",
    "# new_label = test_file\n",
    "# for w in new_label:\n",
    "#     if w == '__label__1':\n",
    "#         w.replace('__label__1','')\n",
    "#     if w == '__label__2':\n",
    "#         w.replace('__label_2','')\n",
    "#     if w == '\\n':\n",
    "#         w.replace('\\n','')\n",
    "\n",
    "# predict in new_label using the model\n",
    "pr = model.predict(new_label)"
   ]
  },
  {
   "cell_type": "code",
   "execution_count": 24,
   "metadata": {
    "slideshow": {
     "slide_type": "subslide"
    }
   },
   "outputs": [
    {
     "name": "stdout",
     "output_type": "stream",
     "text": [
      "['__label__2'] predicted label for row 1\n",
      "['__label__2'] predicted label for row 2\n",
      "['__label__1'] predicted label for row 3\n",
      "['__label__2'] predicted label for row 4\n",
      "['__label__2'] predicted label for row 5\n",
      "['__label__1'] predicted label for row 6\n"
     ]
    }
   ],
   "source": [
    "print(pr[0][0], 'predicted label for row 1')\n",
    "print(pr[0][1], 'predicted label for row 2')\n",
    "print(pr[0][2], 'predicted label for row 3')\n",
    "print(pr[0][3], 'predicted label for row 4')\n",
    "print(pr[0][4], 'predicted label for row 5')\n",
    "print(pr[0][5], 'predicted label for row 6')"
   ]
  },
  {
   "cell_type": "code",
   "execution_count": 25,
   "metadata": {
    "slideshow": {
     "slide_type": "slide"
    }
   },
   "outputs": [
    {
     "name": "stdout",
     "output_type": "stream",
     "text": [
      "0.91702\n"
     ]
    }
   ],
   "source": [
    "# evaluate prediction\n",
    "labels = [0 if a.split(' ')[0] == '__label__1' else 1 for a in test_file]\n",
    "pr_labels = [0 if a == ['__label__1'] else 1 for a in pr[0]]\n",
    "\n",
    "#accuracy\n",
    "print(roc_auc_score(labels, pr_labels))"
   ]
  }
 ],
 "metadata": {
  "celltoolbar": "Slideshow",
  "kernelspec": {
   "display_name": "Python 3",
   "language": "python",
   "name": "python3"
  },
  "language_info": {
   "codemirror_mode": {
    "name": "ipython",
    "version": 3
   },
   "file_extension": ".py",
   "mimetype": "text/x-python",
   "name": "python",
   "nbconvert_exporter": "python",
   "pygments_lexer": "ipython3",
   "version": "3.8.5"
  }
 },
 "nbformat": 4,
 "nbformat_minor": 4
}
